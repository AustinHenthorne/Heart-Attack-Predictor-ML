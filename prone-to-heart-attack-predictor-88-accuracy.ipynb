{
 "cells": [
  {
   "cell_type": "code",
   "execution_count": 1,
   "id": "alpine-argentina",
   "metadata": {
    "_cell_guid": "b1076dfc-b9ad-4769-8c92-a6c4dae69d19",
    "_uuid": "8f2839f25d086af736a60e9eeb907d3b93b6e0e5",
    "execution": {
     "iopub.execute_input": "2021-04-17T00:29:53.701542Z",
     "iopub.status.busy": "2021-04-17T00:29:53.699820Z",
     "iopub.status.idle": "2021-04-17T00:29:55.295961Z",
     "shell.execute_reply": "2021-04-17T00:29:55.296825Z"
    },
    "papermill": {
     "duration": 1.635895,
     "end_time": "2021-04-17T00:29:55.297237",
     "exception": false,
     "start_time": "2021-04-17T00:29:53.661342",
     "status": "completed"
    },
    "tags": []
   },
   "outputs": [
    {
     "name": "stdout",
     "output_type": "stream",
     "text": [
      "/kaggle/input/heart-attack-analysis-prediction-dataset/o2Saturation.csv\n",
      "/kaggle/input/heart-attack-analysis-prediction-dataset/heart.csv\n"
     ]
    }
   ],
   "source": [
    "# This Python 3 environment comes with many helpful analytics libraries installed\n",
    "# It is defined by the kaggle/python Docker image: https://github.com/kaggle/docker-python\n",
    "# For example, here's several helpful packages to load\n",
    "\n",
    "import numpy as np # linear algebra\n",
    "import pandas as pd # data processing, CSV file I/O (e.g. pd.read_csv)\n",
    "import matplotlib.pyplot as plt\n",
    "import seaborn as sns # Seaborn visualization library\n",
    "from sklearn.model_selection import train_test_split\n",
    "from sklearn.compose import ColumnTransformer\n",
    "from sklearn.pipeline import Pipeline\n",
    "from sklearn.preprocessing import StandardScaler, LabelEncoder, OneHotEncoder\n",
    "from sklearn.metrics import accuracy_score\n",
    "from sklearn.metrics import confusion_matrix, accuracy_score, precision_score, recall_score\n",
    "from sklearn.svm import SVC, LinearSVC, NuSVC\n",
    "from sklearn.tree import DecisionTreeClassifier\n",
    "from sklearn.neighbors import KNeighborsClassifier\n",
    "from sklearn.ensemble import RandomForestClassifier, AdaBoostClassifier, GradientBoostingClassifier\n",
    "from sklearn.linear_model import LogisticRegression\n",
    "from sklearn.preprocessing import RobustScaler\n",
    "\n",
    "# Input data files are available in the read-only \"../input/\" directory\n",
    "# For example, running this (by clicking run or pressing Shift+Enter) will list all files under the input directory\n",
    "\n",
    "import os\n",
    "for dirname, _, filenames in os.walk('/kaggle/input'):\n",
    "    for filename in filenames:\n",
    "        print(os.path.join(dirname, filename))\n",
    "\n",
    "# You can write up to 20GB to the current directory (/kaggle/working/) that gets preserved as output when you create a version using \"Save & Run All\" \n",
    "# You can also write temporary files to /kaggle/temp/, but they won't be saved outside of the current session"
   ]
  },
  {
   "cell_type": "markdown",
   "id": "settled-support",
   "metadata": {
    "papermill": {
     "duration": 0.026144,
     "end_time": "2021-04-17T00:29:55.350905",
     "exception": false,
     "start_time": "2021-04-17T00:29:55.324761",
     "status": "completed"
    },
    "tags": []
   },
   "source": [
    "# Hi there, to get started lets import and visualize the data"
   ]
  },
  {
   "cell_type": "markdown",
   "id": "thorough-object",
   "metadata": {
    "papermill": {
     "duration": 0.026031,
     "end_time": "2021-04-17T00:29:55.405480",
     "exception": false,
     "start_time": "2021-04-17T00:29:55.379449",
     "status": "completed"
    },
    "tags": []
   },
   "source": [
    "**Import the data**"
   ]
  },
  {
   "cell_type": "code",
   "execution_count": 2,
   "id": "individual-factor",
   "metadata": {
    "execution": {
     "iopub.execute_input": "2021-04-17T00:29:55.464262Z",
     "iopub.status.busy": "2021-04-17T00:29:55.463527Z",
     "iopub.status.idle": "2021-04-17T00:29:55.478341Z",
     "shell.execute_reply": "2021-04-17T00:29:55.478962Z"
    },
    "papermill": {
     "duration": 0.0471,
     "end_time": "2021-04-17T00:29:55.479154",
     "exception": false,
     "start_time": "2021-04-17T00:29:55.432054",
     "status": "completed"
    },
    "tags": []
   },
   "outputs": [],
   "source": [
    "heart_df = pd.read_csv(\"/kaggle/input/heart-attack-analysis-prediction-dataset/heart.csv\")"
   ]
  },
  {
   "cell_type": "markdown",
   "id": "naked-ghost",
   "metadata": {
    "papermill": {
     "duration": 0.026104,
     "end_time": "2021-04-17T00:29:55.532253",
     "exception": false,
     "start_time": "2021-04-17T00:29:55.506149",
     "status": "completed"
    },
    "tags": []
   },
   "source": [
    "**Lets see how much data we workin with**"
   ]
  },
  {
   "cell_type": "code",
   "execution_count": 3,
   "id": "enclosed-treasury",
   "metadata": {
    "execution": {
     "iopub.execute_input": "2021-04-17T00:29:55.588831Z",
     "iopub.status.busy": "2021-04-17T00:29:55.588188Z",
     "iopub.status.idle": "2021-04-17T00:29:55.595625Z",
     "shell.execute_reply": "2021-04-17T00:29:55.596157Z"
    },
    "papermill": {
     "duration": 0.037338,
     "end_time": "2021-04-17T00:29:55.596336",
     "exception": false,
     "start_time": "2021-04-17T00:29:55.558998",
     "status": "completed"
    },
    "tags": []
   },
   "outputs": [
    {
     "data": {
      "text/plain": [
       "(303, 14)"
      ]
     },
     "execution_count": 3,
     "metadata": {},
     "output_type": "execute_result"
    }
   ],
   "source": [
    "heart_df.shape"
   ]
  },
  {
   "cell_type": "markdown",
   "id": "sharp-authority",
   "metadata": {
    "papermill": {
     "duration": 0.027538,
     "end_time": "2021-04-17T00:29:55.650878",
     "exception": false,
     "start_time": "2021-04-17T00:29:55.623340",
     "status": "completed"
    },
    "tags": []
   },
   "source": [
    "**Small dataset but nothing to worry about**"
   ]
  },
  {
   "cell_type": "markdown",
   "id": "coupled-bronze",
   "metadata": {
    "papermill": {
     "duration": 0.026903,
     "end_time": "2021-04-17T00:29:55.705868",
     "exception": false,
     "start_time": "2021-04-17T00:29:55.678965",
     "status": "completed"
    },
    "tags": []
   },
   "source": [
    "**Lets look at the features**"
   ]
  },
  {
   "cell_type": "code",
   "execution_count": 4,
   "id": "obvious-engagement",
   "metadata": {
    "execution": {
     "iopub.execute_input": "2021-04-17T00:29:55.767274Z",
     "iopub.status.busy": "2021-04-17T00:29:55.766415Z",
     "iopub.status.idle": "2021-04-17T00:29:55.796430Z",
     "shell.execute_reply": "2021-04-17T00:29:55.797027Z"
    },
    "papermill": {
     "duration": 0.064057,
     "end_time": "2021-04-17T00:29:55.797226",
     "exception": false,
     "start_time": "2021-04-17T00:29:55.733169",
     "status": "completed"
    },
    "tags": []
   },
   "outputs": [
    {
     "data": {
      "text/html": [
       "<div>\n",
       "<style scoped>\n",
       "    .dataframe tbody tr th:only-of-type {\n",
       "        vertical-align: middle;\n",
       "    }\n",
       "\n",
       "    .dataframe tbody tr th {\n",
       "        vertical-align: top;\n",
       "    }\n",
       "\n",
       "    .dataframe thead th {\n",
       "        text-align: right;\n",
       "    }\n",
       "</style>\n",
       "<table border=\"1\" class=\"dataframe\">\n",
       "  <thead>\n",
       "    <tr style=\"text-align: right;\">\n",
       "      <th></th>\n",
       "      <th>age</th>\n",
       "      <th>sex</th>\n",
       "      <th>cp</th>\n",
       "      <th>trtbps</th>\n",
       "      <th>chol</th>\n",
       "      <th>fbs</th>\n",
       "      <th>restecg</th>\n",
       "      <th>thalachh</th>\n",
       "      <th>exng</th>\n",
       "      <th>oldpeak</th>\n",
       "      <th>slp</th>\n",
       "      <th>caa</th>\n",
       "      <th>thall</th>\n",
       "      <th>output</th>\n",
       "    </tr>\n",
       "  </thead>\n",
       "  <tbody>\n",
       "    <tr>\n",
       "      <th>301</th>\n",
       "      <td>57</td>\n",
       "      <td>1</td>\n",
       "      <td>0</td>\n",
       "      <td>130</td>\n",
       "      <td>131</td>\n",
       "      <td>0</td>\n",
       "      <td>1</td>\n",
       "      <td>115</td>\n",
       "      <td>1</td>\n",
       "      <td>1.2</td>\n",
       "      <td>1</td>\n",
       "      <td>1</td>\n",
       "      <td>3</td>\n",
       "      <td>0</td>\n",
       "    </tr>\n",
       "    <tr>\n",
       "      <th>198</th>\n",
       "      <td>62</td>\n",
       "      <td>1</td>\n",
       "      <td>0</td>\n",
       "      <td>120</td>\n",
       "      <td>267</td>\n",
       "      <td>0</td>\n",
       "      <td>1</td>\n",
       "      <td>99</td>\n",
       "      <td>1</td>\n",
       "      <td>1.8</td>\n",
       "      <td>1</td>\n",
       "      <td>2</td>\n",
       "      <td>3</td>\n",
       "      <td>0</td>\n",
       "    </tr>\n",
       "    <tr>\n",
       "      <th>189</th>\n",
       "      <td>41</td>\n",
       "      <td>1</td>\n",
       "      <td>0</td>\n",
       "      <td>110</td>\n",
       "      <td>172</td>\n",
       "      <td>0</td>\n",
       "      <td>0</td>\n",
       "      <td>158</td>\n",
       "      <td>0</td>\n",
       "      <td>0.0</td>\n",
       "      <td>2</td>\n",
       "      <td>0</td>\n",
       "      <td>3</td>\n",
       "      <td>0</td>\n",
       "    </tr>\n",
       "    <tr>\n",
       "      <th>269</th>\n",
       "      <td>56</td>\n",
       "      <td>1</td>\n",
       "      <td>0</td>\n",
       "      <td>130</td>\n",
       "      <td>283</td>\n",
       "      <td>1</td>\n",
       "      <td>0</td>\n",
       "      <td>103</td>\n",
       "      <td>1</td>\n",
       "      <td>1.6</td>\n",
       "      <td>0</td>\n",
       "      <td>0</td>\n",
       "      <td>3</td>\n",
       "      <td>0</td>\n",
       "    </tr>\n",
       "    <tr>\n",
       "      <th>34</th>\n",
       "      <td>51</td>\n",
       "      <td>1</td>\n",
       "      <td>3</td>\n",
       "      <td>125</td>\n",
       "      <td>213</td>\n",
       "      <td>0</td>\n",
       "      <td>0</td>\n",
       "      <td>125</td>\n",
       "      <td>1</td>\n",
       "      <td>1.4</td>\n",
       "      <td>2</td>\n",
       "      <td>1</td>\n",
       "      <td>2</td>\n",
       "      <td>1</td>\n",
       "    </tr>\n",
       "    <tr>\n",
       "      <th>7</th>\n",
       "      <td>44</td>\n",
       "      <td>1</td>\n",
       "      <td>1</td>\n",
       "      <td>120</td>\n",
       "      <td>263</td>\n",
       "      <td>0</td>\n",
       "      <td>1</td>\n",
       "      <td>173</td>\n",
       "      <td>0</td>\n",
       "      <td>0.0</td>\n",
       "      <td>2</td>\n",
       "      <td>0</td>\n",
       "      <td>3</td>\n",
       "      <td>1</td>\n",
       "    </tr>\n",
       "  </tbody>\n",
       "</table>\n",
       "</div>"
      ],
      "text/plain": [
       "     age  sex  cp  trtbps  chol  fbs  restecg  thalachh  exng  oldpeak  slp  \\\n",
       "301   57    1   0     130   131    0        1       115     1      1.2    1   \n",
       "198   62    1   0     120   267    0        1        99     1      1.8    1   \n",
       "189   41    1   0     110   172    0        0       158     0      0.0    2   \n",
       "269   56    1   0     130   283    1        0       103     1      1.6    0   \n",
       "34    51    1   3     125   213    0        0       125     1      1.4    2   \n",
       "7     44    1   1     120   263    0        1       173     0      0.0    2   \n",
       "\n",
       "     caa  thall  output  \n",
       "301    1      3       0  \n",
       "198    2      3       0  \n",
       "189    0      3       0  \n",
       "269    0      3       0  \n",
       "34     1      2       1  \n",
       "7      0      3       1  "
      ]
     },
     "execution_count": 4,
     "metadata": {},
     "output_type": "execute_result"
    }
   ],
   "source": [
    "heart_df.sample(6)"
   ]
  },
  {
   "cell_type": "markdown",
   "id": "norman-husband",
   "metadata": {
    "papermill": {
     "duration": 0.027298,
     "end_time": "2021-04-17T00:29:55.851851",
     "exception": false,
     "start_time": "2021-04-17T00:29:55.824553",
     "status": "completed"
    },
    "tags": []
   },
   "source": [
    "**Any values missing?**"
   ]
  },
  {
   "cell_type": "code",
   "execution_count": 5,
   "id": "substantial-appearance",
   "metadata": {
    "execution": {
     "iopub.execute_input": "2021-04-17T00:29:55.911043Z",
     "iopub.status.busy": "2021-04-17T00:29:55.910013Z",
     "iopub.status.idle": "2021-04-17T00:29:55.920510Z",
     "shell.execute_reply": "2021-04-17T00:29:55.919823Z"
    },
    "papermill": {
     "duration": 0.041454,
     "end_time": "2021-04-17T00:29:55.920666",
     "exception": false,
     "start_time": "2021-04-17T00:29:55.879212",
     "status": "completed"
    },
    "tags": []
   },
   "outputs": [
    {
     "data": {
      "text/plain": [
       "age         0\n",
       "sex         0\n",
       "cp          0\n",
       "trtbps      0\n",
       "chol        0\n",
       "fbs         0\n",
       "restecg     0\n",
       "thalachh    0\n",
       "exng        0\n",
       "oldpeak     0\n",
       "slp         0\n",
       "caa         0\n",
       "thall       0\n",
       "output      0\n",
       "dtype: int64"
      ]
     },
     "execution_count": 5,
     "metadata": {},
     "output_type": "execute_result"
    }
   ],
   "source": [
    "heart_df.isnull().sum().sort_values(ascending=False)[:]"
   ]
  },
  {
   "cell_type": "code",
   "execution_count": 6,
   "id": "patent-austin",
   "metadata": {
    "execution": {
     "iopub.execute_input": "2021-04-17T00:29:55.985867Z",
     "iopub.status.busy": "2021-04-17T00:29:55.984834Z",
     "iopub.status.idle": "2021-04-17T00:29:55.989112Z",
     "shell.execute_reply": "2021-04-17T00:29:55.989697Z"
    },
    "papermill": {
     "duration": 0.041271,
     "end_time": "2021-04-17T00:29:55.989863",
     "exception": false,
     "start_time": "2021-04-17T00:29:55.948592",
     "status": "completed"
    },
    "tags": []
   },
   "outputs": [
    {
     "data": {
      "text/plain": [
       "age         False\n",
       "sex         False\n",
       "cp          False\n",
       "trtbps      False\n",
       "chol        False\n",
       "fbs         False\n",
       "restecg     False\n",
       "thalachh    False\n",
       "exng        False\n",
       "oldpeak     False\n",
       "slp         False\n",
       "caa         False\n",
       "thall       False\n",
       "output      False\n",
       "dtype: bool"
      ]
     },
     "execution_count": 6,
     "metadata": {},
     "output_type": "execute_result"
    }
   ],
   "source": [
    "heart_df.isna().any()"
   ]
  },
  {
   "cell_type": "markdown",
   "id": "lightweight-funds",
   "metadata": {
    "papermill": {
     "duration": 0.028011,
     "end_time": "2021-04-17T00:29:56.046198",
     "exception": false,
     "start_time": "2021-04-17T00:29:56.018187",
     "status": "completed"
    },
    "tags": []
   },
   "source": [
    "**Hm complete dataset, right on**"
   ]
  },
  {
   "cell_type": "code",
   "execution_count": 7,
   "id": "patent-scale",
   "metadata": {
    "execution": {
     "iopub.execute_input": "2021-04-17T00:29:56.108695Z",
     "iopub.status.busy": "2021-04-17T00:29:56.107724Z",
     "iopub.status.idle": "2021-04-17T00:29:56.124306Z",
     "shell.execute_reply": "2021-04-17T00:29:56.124783Z"
    },
    "papermill": {
     "duration": 0.050539,
     "end_time": "2021-04-17T00:29:56.124987",
     "exception": false,
     "start_time": "2021-04-17T00:29:56.074448",
     "status": "completed"
    },
    "tags": []
   },
   "outputs": [
    {
     "data": {
      "text/plain": [
       "age          41\n",
       "sex           2\n",
       "cp            4\n",
       "trtbps       49\n",
       "chol        152\n",
       "fbs           2\n",
       "restecg       3\n",
       "thalachh     91\n",
       "exng          2\n",
       "oldpeak      40\n",
       "slp           3\n",
       "caa           5\n",
       "thall         4\n",
       "output        2\n",
       "dtype: int64"
      ]
     },
     "execution_count": 7,
     "metadata": {},
     "output_type": "execute_result"
    }
   ],
   "source": [
    "heart_df.nunique()"
   ]
  },
  {
   "cell_type": "markdown",
   "id": "framed-conservative",
   "metadata": {
    "papermill": {
     "duration": 0.028918,
     "end_time": "2021-04-17T00:29:56.183123",
     "exception": false,
     "start_time": "2021-04-17T00:29:56.154205",
     "status": "completed"
    },
    "tags": []
   },
   "source": [
    "**Couple features that I want to label as categories since some are disretized (sex, cp, fbs, restecg, exng, slp, caa, thall)**"
   ]
  },
  {
   "cell_type": "code",
   "execution_count": 8,
   "id": "temporal-steering",
   "metadata": {
    "execution": {
     "iopub.execute_input": "2021-04-17T00:29:56.245060Z",
     "iopub.status.busy": "2021-04-17T00:29:56.244083Z",
     "iopub.status.idle": "2021-04-17T00:29:56.298244Z",
     "shell.execute_reply": "2021-04-17T00:29:56.298703Z"
    },
    "papermill": {
     "duration": 0.08668,
     "end_time": "2021-04-17T00:29:56.298886",
     "exception": false,
     "start_time": "2021-04-17T00:29:56.212206",
     "status": "completed"
    },
    "tags": []
   },
   "outputs": [
    {
     "data": {
      "text/html": [
       "<div>\n",
       "<style scoped>\n",
       "    .dataframe tbody tr th:only-of-type {\n",
       "        vertical-align: middle;\n",
       "    }\n",
       "\n",
       "    .dataframe tbody tr th {\n",
       "        vertical-align: top;\n",
       "    }\n",
       "\n",
       "    .dataframe thead th {\n",
       "        text-align: right;\n",
       "    }\n",
       "</style>\n",
       "<table border=\"1\" class=\"dataframe\">\n",
       "  <thead>\n",
       "    <tr style=\"text-align: right;\">\n",
       "      <th></th>\n",
       "      <th>age</th>\n",
       "      <th>sex</th>\n",
       "      <th>cp</th>\n",
       "      <th>trtbps</th>\n",
       "      <th>chol</th>\n",
       "      <th>fbs</th>\n",
       "      <th>restecg</th>\n",
       "      <th>thalachh</th>\n",
       "      <th>exng</th>\n",
       "      <th>oldpeak</th>\n",
       "      <th>slp</th>\n",
       "      <th>caa</th>\n",
       "      <th>thall</th>\n",
       "      <th>output</th>\n",
       "    </tr>\n",
       "  </thead>\n",
       "  <tbody>\n",
       "    <tr>\n",
       "      <th>count</th>\n",
       "      <td>303.000000</td>\n",
       "      <td>303.000000</td>\n",
       "      <td>303.000000</td>\n",
       "      <td>303.000000</td>\n",
       "      <td>303.000000</td>\n",
       "      <td>303.000000</td>\n",
       "      <td>303.000000</td>\n",
       "      <td>303.000000</td>\n",
       "      <td>303.000000</td>\n",
       "      <td>303.000000</td>\n",
       "      <td>303.000000</td>\n",
       "      <td>303.000000</td>\n",
       "      <td>303.000000</td>\n",
       "      <td>303.000000</td>\n",
       "    </tr>\n",
       "    <tr>\n",
       "      <th>mean</th>\n",
       "      <td>54.366337</td>\n",
       "      <td>0.683168</td>\n",
       "      <td>0.966997</td>\n",
       "      <td>131.623762</td>\n",
       "      <td>246.264026</td>\n",
       "      <td>0.148515</td>\n",
       "      <td>0.528053</td>\n",
       "      <td>149.646865</td>\n",
       "      <td>0.326733</td>\n",
       "      <td>1.039604</td>\n",
       "      <td>1.399340</td>\n",
       "      <td>0.729373</td>\n",
       "      <td>2.313531</td>\n",
       "      <td>0.544554</td>\n",
       "    </tr>\n",
       "    <tr>\n",
       "      <th>std</th>\n",
       "      <td>9.082101</td>\n",
       "      <td>0.466011</td>\n",
       "      <td>1.032052</td>\n",
       "      <td>17.538143</td>\n",
       "      <td>51.830751</td>\n",
       "      <td>0.356198</td>\n",
       "      <td>0.525860</td>\n",
       "      <td>22.905161</td>\n",
       "      <td>0.469794</td>\n",
       "      <td>1.161075</td>\n",
       "      <td>0.616226</td>\n",
       "      <td>1.022606</td>\n",
       "      <td>0.612277</td>\n",
       "      <td>0.498835</td>\n",
       "    </tr>\n",
       "    <tr>\n",
       "      <th>min</th>\n",
       "      <td>29.000000</td>\n",
       "      <td>0.000000</td>\n",
       "      <td>0.000000</td>\n",
       "      <td>94.000000</td>\n",
       "      <td>126.000000</td>\n",
       "      <td>0.000000</td>\n",
       "      <td>0.000000</td>\n",
       "      <td>71.000000</td>\n",
       "      <td>0.000000</td>\n",
       "      <td>0.000000</td>\n",
       "      <td>0.000000</td>\n",
       "      <td>0.000000</td>\n",
       "      <td>0.000000</td>\n",
       "      <td>0.000000</td>\n",
       "    </tr>\n",
       "    <tr>\n",
       "      <th>25%</th>\n",
       "      <td>47.500000</td>\n",
       "      <td>0.000000</td>\n",
       "      <td>0.000000</td>\n",
       "      <td>120.000000</td>\n",
       "      <td>211.000000</td>\n",
       "      <td>0.000000</td>\n",
       "      <td>0.000000</td>\n",
       "      <td>133.500000</td>\n",
       "      <td>0.000000</td>\n",
       "      <td>0.000000</td>\n",
       "      <td>1.000000</td>\n",
       "      <td>0.000000</td>\n",
       "      <td>2.000000</td>\n",
       "      <td>0.000000</td>\n",
       "    </tr>\n",
       "    <tr>\n",
       "      <th>50%</th>\n",
       "      <td>55.000000</td>\n",
       "      <td>1.000000</td>\n",
       "      <td>1.000000</td>\n",
       "      <td>130.000000</td>\n",
       "      <td>240.000000</td>\n",
       "      <td>0.000000</td>\n",
       "      <td>1.000000</td>\n",
       "      <td>153.000000</td>\n",
       "      <td>0.000000</td>\n",
       "      <td>0.800000</td>\n",
       "      <td>1.000000</td>\n",
       "      <td>0.000000</td>\n",
       "      <td>2.000000</td>\n",
       "      <td>1.000000</td>\n",
       "    </tr>\n",
       "    <tr>\n",
       "      <th>75%</th>\n",
       "      <td>61.000000</td>\n",
       "      <td>1.000000</td>\n",
       "      <td>2.000000</td>\n",
       "      <td>140.000000</td>\n",
       "      <td>274.500000</td>\n",
       "      <td>0.000000</td>\n",
       "      <td>1.000000</td>\n",
       "      <td>166.000000</td>\n",
       "      <td>1.000000</td>\n",
       "      <td>1.600000</td>\n",
       "      <td>2.000000</td>\n",
       "      <td>1.000000</td>\n",
       "      <td>3.000000</td>\n",
       "      <td>1.000000</td>\n",
       "    </tr>\n",
       "    <tr>\n",
       "      <th>max</th>\n",
       "      <td>77.000000</td>\n",
       "      <td>1.000000</td>\n",
       "      <td>3.000000</td>\n",
       "      <td>200.000000</td>\n",
       "      <td>564.000000</td>\n",
       "      <td>1.000000</td>\n",
       "      <td>2.000000</td>\n",
       "      <td>202.000000</td>\n",
       "      <td>1.000000</td>\n",
       "      <td>6.200000</td>\n",
       "      <td>2.000000</td>\n",
       "      <td>4.000000</td>\n",
       "      <td>3.000000</td>\n",
       "      <td>1.000000</td>\n",
       "    </tr>\n",
       "  </tbody>\n",
       "</table>\n",
       "</div>"
      ],
      "text/plain": [
       "              age         sex          cp      trtbps        chol         fbs  \\\n",
       "count  303.000000  303.000000  303.000000  303.000000  303.000000  303.000000   \n",
       "mean    54.366337    0.683168    0.966997  131.623762  246.264026    0.148515   \n",
       "std      9.082101    0.466011    1.032052   17.538143   51.830751    0.356198   \n",
       "min     29.000000    0.000000    0.000000   94.000000  126.000000    0.000000   \n",
       "25%     47.500000    0.000000    0.000000  120.000000  211.000000    0.000000   \n",
       "50%     55.000000    1.000000    1.000000  130.000000  240.000000    0.000000   \n",
       "75%     61.000000    1.000000    2.000000  140.000000  274.500000    0.000000   \n",
       "max     77.000000    1.000000    3.000000  200.000000  564.000000    1.000000   \n",
       "\n",
       "          restecg    thalachh        exng     oldpeak         slp         caa  \\\n",
       "count  303.000000  303.000000  303.000000  303.000000  303.000000  303.000000   \n",
       "mean     0.528053  149.646865    0.326733    1.039604    1.399340    0.729373   \n",
       "std      0.525860   22.905161    0.469794    1.161075    0.616226    1.022606   \n",
       "min      0.000000   71.000000    0.000000    0.000000    0.000000    0.000000   \n",
       "25%      0.000000  133.500000    0.000000    0.000000    1.000000    0.000000   \n",
       "50%      1.000000  153.000000    0.000000    0.800000    1.000000    0.000000   \n",
       "75%      1.000000  166.000000    1.000000    1.600000    2.000000    1.000000   \n",
       "max      2.000000  202.000000    1.000000    6.200000    2.000000    4.000000   \n",
       "\n",
       "            thall      output  \n",
       "count  303.000000  303.000000  \n",
       "mean     2.313531    0.544554  \n",
       "std      0.612277    0.498835  \n",
       "min      0.000000    0.000000  \n",
       "25%      2.000000    0.000000  \n",
       "50%      2.000000    1.000000  \n",
       "75%      3.000000    1.000000  \n",
       "max      3.000000    1.000000  "
      ]
     },
     "execution_count": 8,
     "metadata": {},
     "output_type": "execute_result"
    }
   ],
   "source": [
    "heart_df.describe()"
   ]
  },
  {
   "cell_type": "code",
   "execution_count": 9,
   "id": "hydraulic-method",
   "metadata": {
    "execution": {
     "iopub.execute_input": "2021-04-17T00:29:56.362479Z",
     "iopub.status.busy": "2021-04-17T00:29:56.361493Z",
     "iopub.status.idle": "2021-04-17T00:29:56.368629Z",
     "shell.execute_reply": "2021-04-17T00:29:56.369150Z"
    },
    "papermill": {
     "duration": 0.040684,
     "end_time": "2021-04-17T00:29:56.369325",
     "exception": false,
     "start_time": "2021-04-17T00:29:56.328641",
     "status": "completed"
    },
    "tags": []
   },
   "outputs": [
    {
     "data": {
      "text/plain": [
       "age           int64\n",
       "sex           int64\n",
       "cp            int64\n",
       "trtbps        int64\n",
       "chol          int64\n",
       "fbs           int64\n",
       "restecg       int64\n",
       "thalachh      int64\n",
       "exng          int64\n",
       "oldpeak     float64\n",
       "slp           int64\n",
       "caa           int64\n",
       "thall         int64\n",
       "output        int64\n",
       "dtype: object"
      ]
     },
     "execution_count": 9,
     "metadata": {},
     "output_type": "execute_result"
    }
   ],
   "source": [
    "heart_df.dtypes"
   ]
  },
  {
   "cell_type": "markdown",
   "id": "ethical-bangladesh",
   "metadata": {
    "papermill": {
     "duration": 0.029808,
     "end_time": "2021-04-17T00:29:56.429251",
     "exception": false,
     "start_time": "2021-04-17T00:29:56.399443",
     "status": "completed"
    },
    "tags": []
   },
   "source": [
    "**Correlation time**"
   ]
  },
  {
   "cell_type": "code",
   "execution_count": 10,
   "id": "right-buffer",
   "metadata": {
    "execution": {
     "iopub.execute_input": "2021-04-17T00:29:56.493494Z",
     "iopub.status.busy": "2021-04-17T00:29:56.492507Z",
     "iopub.status.idle": "2021-04-17T00:29:56.925657Z",
     "shell.execute_reply": "2021-04-17T00:29:56.926149Z"
    },
    "papermill": {
     "duration": 0.466903,
     "end_time": "2021-04-17T00:29:56.926336",
     "exception": false,
     "start_time": "2021-04-17T00:29:56.459433",
     "status": "completed"
    },
    "tags": []
   },
   "outputs": [
    {
     "data": {
      "text/plain": [
       "<AxesSubplot:>"
      ]
     },
     "execution_count": 10,
     "metadata": {},
     "output_type": "execute_result"
    },
    {
     "data": {
      "image/png": "[encoded data removed]",
      "text/plain": [
       "<Figure size 792x648 with 2 Axes>"
      ]
     },
     "metadata": {
      "needs_background": "light"
     },
     "output_type": "display_data"
    }
   ],
   "source": [
    "# Compute the correlation matrix\n",
    "corr = heart_df.corr(method ='pearson')\n",
    "\n",
    "# Generate a mask for the upper triangle\n",
    "mask = np.triu(np.ones_like(corr, dtype=bool))\n",
    "\n",
    "# Set up the matplotlib figure\n",
    "f, ax = plt.subplots(figsize=(11, 9))\n",
    "\n",
    "# Generate a custom diverging colormap\n",
    "cmap = sns.diverging_palette(230, 20, as_cmap=True)\n",
    "\n",
    "# Draw the heatmap with the mask and correct aspect ratio\n",
    "sns.heatmap(corr, mask=mask, cmap=cmap, vmax=.3, center=0, square=True, linewidths=.5, cbar_kws={\"shrink\": .5})"
   ]
  },
  {
   "cell_type": "code",
   "execution_count": 11,
   "id": "possible-electric",
   "metadata": {
    "execution": {
     "iopub.execute_input": "2021-04-17T00:29:56.994862Z",
     "iopub.status.busy": "2021-04-17T00:29:56.993830Z",
     "iopub.status.idle": "2021-04-17T00:29:57.021523Z",
     "shell.execute_reply": "2021-04-17T00:29:57.022057Z"
    },
    "papermill": {
     "duration": 0.064158,
     "end_time": "2021-04-17T00:29:57.022249",
     "exception": false,
     "start_time": "2021-04-17T00:29:56.958091",
     "status": "completed"
    },
    "tags": []
   },
   "outputs": [
    {
     "data": {
      "text/html": [
       "<div>\n",
       "<style scoped>\n",
       "    .dataframe tbody tr th:only-of-type {\n",
       "        vertical-align: middle;\n",
       "    }\n",
       "\n",
       "    .dataframe tbody tr th {\n",
       "        vertical-align: top;\n",
       "    }\n",
       "\n",
       "    .dataframe thead th {\n",
       "        text-align: right;\n",
       "    }\n",
       "</style>\n",
       "<table border=\"1\" class=\"dataframe\">\n",
       "  <thead>\n",
       "    <tr style=\"text-align: right;\">\n",
       "      <th></th>\n",
       "      <th>age</th>\n",
       "      <th>sex</th>\n",
       "      <th>cp</th>\n",
       "      <th>trtbps</th>\n",
       "      <th>chol</th>\n",
       "      <th>fbs</th>\n",
       "      <th>restecg</th>\n",
       "      <th>thalachh</th>\n",
       "      <th>exng</th>\n",
       "      <th>oldpeak</th>\n",
       "      <th>slp</th>\n",
       "      <th>caa</th>\n",
       "      <th>thall</th>\n",
       "      <th>output</th>\n",
       "    </tr>\n",
       "  </thead>\n",
       "  <tbody>\n",
       "    <tr>\n",
       "      <th>age</th>\n",
       "      <td>1.000000</td>\n",
       "      <td>-0.098447</td>\n",
       "      <td>-0.068653</td>\n",
       "      <td>0.279351</td>\n",
       "      <td>0.213678</td>\n",
       "      <td>0.121308</td>\n",
       "      <td>-0.116211</td>\n",
       "      <td>-0.398522</td>\n",
       "      <td>0.096801</td>\n",
       "      <td>0.210013</td>\n",
       "      <td>-0.168814</td>\n",
       "      <td>0.276326</td>\n",
       "      <td>0.068001</td>\n",
       "      <td>-0.225439</td>\n",
       "    </tr>\n",
       "    <tr>\n",
       "      <th>sex</th>\n",
       "      <td>-0.098447</td>\n",
       "      <td>1.000000</td>\n",
       "      <td>-0.049353</td>\n",
       "      <td>-0.056769</td>\n",
       "      <td>-0.197912</td>\n",
       "      <td>0.045032</td>\n",
       "      <td>-0.058196</td>\n",
       "      <td>-0.044020</td>\n",
       "      <td>0.141664</td>\n",
       "      <td>0.096093</td>\n",
       "      <td>-0.030711</td>\n",
       "      <td>0.118261</td>\n",
       "      <td>0.210041</td>\n",
       "      <td>-0.280937</td>\n",
       "    </tr>\n",
       "    <tr>\n",
       "      <th>cp</th>\n",
       "      <td>-0.068653</td>\n",
       "      <td>-0.049353</td>\n",
       "      <td>1.000000</td>\n",
       "      <td>0.047608</td>\n",
       "      <td>-0.076904</td>\n",
       "      <td>0.094444</td>\n",
       "      <td>0.044421</td>\n",
       "      <td>0.295762</td>\n",
       "      <td>-0.394280</td>\n",
       "      <td>-0.149230</td>\n",
       "      <td>0.119717</td>\n",
       "      <td>-0.181053</td>\n",
       "      <td>-0.161736</td>\n",
       "      <td>0.433798</td>\n",
       "    </tr>\n",
       "    <tr>\n",
       "      <th>trtbps</th>\n",
       "      <td>0.279351</td>\n",
       "      <td>-0.056769</td>\n",
       "      <td>0.047608</td>\n",
       "      <td>1.000000</td>\n",
       "      <td>0.123174</td>\n",
       "      <td>0.177531</td>\n",
       "      <td>-0.114103</td>\n",
       "      <td>-0.046698</td>\n",
       "      <td>0.067616</td>\n",
       "      <td>0.193216</td>\n",
       "      <td>-0.121475</td>\n",
       "      <td>0.101389</td>\n",
       "      <td>0.062210</td>\n",
       "      <td>-0.144931</td>\n",
       "    </tr>\n",
       "    <tr>\n",
       "      <th>chol</th>\n",
       "      <td>0.213678</td>\n",
       "      <td>-0.197912</td>\n",
       "      <td>-0.076904</td>\n",
       "      <td>0.123174</td>\n",
       "      <td>1.000000</td>\n",
       "      <td>0.013294</td>\n",
       "      <td>-0.151040</td>\n",
       "      <td>-0.009940</td>\n",
       "      <td>0.067023</td>\n",
       "      <td>0.053952</td>\n",
       "      <td>-0.004038</td>\n",
       "      <td>0.070511</td>\n",
       "      <td>0.098803</td>\n",
       "      <td>-0.085239</td>\n",
       "    </tr>\n",
       "    <tr>\n",
       "      <th>fbs</th>\n",
       "      <td>0.121308</td>\n",
       "      <td>0.045032</td>\n",
       "      <td>0.094444</td>\n",
       "      <td>0.177531</td>\n",
       "      <td>0.013294</td>\n",
       "      <td>1.000000</td>\n",
       "      <td>-0.084189</td>\n",
       "      <td>-0.008567</td>\n",
       "      <td>0.025665</td>\n",
       "      <td>0.005747</td>\n",
       "      <td>-0.059894</td>\n",
       "      <td>0.137979</td>\n",
       "      <td>-0.032019</td>\n",
       "      <td>-0.028046</td>\n",
       "    </tr>\n",
       "    <tr>\n",
       "      <th>restecg</th>\n",
       "      <td>-0.116211</td>\n",
       "      <td>-0.058196</td>\n",
       "      <td>0.044421</td>\n",
       "      <td>-0.114103</td>\n",
       "      <td>-0.151040</td>\n",
       "      <td>-0.084189</td>\n",
       "      <td>1.000000</td>\n",
       "      <td>0.044123</td>\n",
       "      <td>-0.070733</td>\n",
       "      <td>-0.058770</td>\n",
       "      <td>0.093045</td>\n",
       "      <td>-0.072042</td>\n",
       "      <td>-0.011981</td>\n",
       "      <td>0.137230</td>\n",
       "    </tr>\n",
       "    <tr>\n",
       "      <th>thalachh</th>\n",
       "      <td>-0.398522</td>\n",
       "      <td>-0.044020</td>\n",
       "      <td>0.295762</td>\n",
       "      <td>-0.046698</td>\n",
       "      <td>-0.009940</td>\n",
       "      <td>-0.008567</td>\n",
       "      <td>0.044123</td>\n",
       "      <td>1.000000</td>\n",
       "      <td>-0.378812</td>\n",
       "      <td>-0.344187</td>\n",
       "      <td>0.386784</td>\n",
       "      <td>-0.213177</td>\n",
       "      <td>-0.096439</td>\n",
       "      <td>0.421741</td>\n",
       "    </tr>\n",
       "    <tr>\n",
       "      <th>exng</th>\n",
       "      <td>0.096801</td>\n",
       "      <td>0.141664</td>\n",
       "      <td>-0.394280</td>\n",
       "      <td>0.067616</td>\n",
       "      <td>0.067023</td>\n",
       "      <td>0.025665</td>\n",
       "      <td>-0.070733</td>\n",
       "      <td>-0.378812</td>\n",
       "      <td>1.000000</td>\n",
       "      <td>0.288223</td>\n",
       "      <td>-0.257748</td>\n",
       "      <td>0.115739</td>\n",
       "      <td>0.206754</td>\n",
       "      <td>-0.436757</td>\n",
       "    </tr>\n",
       "    <tr>\n",
       "      <th>oldpeak</th>\n",
       "      <td>0.210013</td>\n",
       "      <td>0.096093</td>\n",
       "      <td>-0.149230</td>\n",
       "      <td>0.193216</td>\n",
       "      <td>0.053952</td>\n",
       "      <td>0.005747</td>\n",
       "      <td>-0.058770</td>\n",
       "      <td>-0.344187</td>\n",
       "      <td>0.288223</td>\n",
       "      <td>1.000000</td>\n",
       "      <td>-0.577537</td>\n",
       "      <td>0.222682</td>\n",
       "      <td>0.210244</td>\n",
       "      <td>-0.430696</td>\n",
       "    </tr>\n",
       "    <tr>\n",
       "      <th>slp</th>\n",
       "      <td>-0.168814</td>\n",
       "      <td>-0.030711</td>\n",
       "      <td>0.119717</td>\n",
       "      <td>-0.121475</td>\n",
       "      <td>-0.004038</td>\n",
       "      <td>-0.059894</td>\n",
       "      <td>0.093045</td>\n",
       "      <td>0.386784</td>\n",
       "      <td>-0.257748</td>\n",
       "      <td>-0.577537</td>\n",
       "      <td>1.000000</td>\n",
       "      <td>-0.080155</td>\n",
       "      <td>-0.104764</td>\n",
       "      <td>0.345877</td>\n",
       "    </tr>\n",
       "    <tr>\n",
       "      <th>caa</th>\n",
       "      <td>0.276326</td>\n",
       "      <td>0.118261</td>\n",
       "      <td>-0.181053</td>\n",
       "      <td>0.101389</td>\n",
       "      <td>0.070511</td>\n",
       "      <td>0.137979</td>\n",
       "      <td>-0.072042</td>\n",
       "      <td>-0.213177</td>\n",
       "      <td>0.115739</td>\n",
       "      <td>0.222682</td>\n",
       "      <td>-0.080155</td>\n",
       "      <td>1.000000</td>\n",
       "      <td>0.151832</td>\n",
       "      <td>-0.391724</td>\n",
       "    </tr>\n",
       "    <tr>\n",
       "      <th>thall</th>\n",
       "      <td>0.068001</td>\n",
       "      <td>0.210041</td>\n",
       "      <td>-0.161736</td>\n",
       "      <td>0.062210</td>\n",
       "      <td>0.098803</td>\n",
       "      <td>-0.032019</td>\n",
       "      <td>-0.011981</td>\n",
       "      <td>-0.096439</td>\n",
       "      <td>0.206754</td>\n",
       "      <td>0.210244</td>\n",
       "      <td>-0.104764</td>\n",
       "      <td>0.151832</td>\n",
       "      <td>1.000000</td>\n",
       "      <td>-0.344029</td>\n",
       "    </tr>\n",
       "    <tr>\n",
       "      <th>output</th>\n",
       "      <td>-0.225439</td>\n",
       "      <td>-0.280937</td>\n",
       "      <td>0.433798</td>\n",
       "      <td>-0.144931</td>\n",
       "      <td>-0.085239</td>\n",
       "      <td>-0.028046</td>\n",
       "      <td>0.137230</td>\n",
       "      <td>0.421741</td>\n",
       "      <td>-0.436757</td>\n",
       "      <td>-0.430696</td>\n",
       "      <td>0.345877</td>\n",
       "      <td>-0.391724</td>\n",
       "      <td>-0.344029</td>\n",
       "      <td>1.000000</td>\n",
       "    </tr>\n",
       "  </tbody>\n",
       "</table>\n",
       "</div>"
      ],
      "text/plain": [
       "               age       sex        cp    trtbps      chol       fbs  \\\n",
       "age       1.000000 -0.098447 -0.068653  0.279351  0.213678  0.121308   \n",
       "sex      -0.098447  1.000000 -0.049353 -0.056769 -0.197912  0.045032   \n",
       "cp       -0.068653 -0.049353  1.000000  0.047608 -0.076904  0.094444   \n",
       "trtbps    0.279351 -0.056769  0.047608  1.000000  0.123174  0.177531   \n",
       "chol      0.213678 -0.197912 -0.076904  0.123174  1.000000  0.013294   \n",
       "fbs       0.121308  0.045032  0.094444  0.177531  0.013294  1.000000   \n",
       "restecg  -0.116211 -0.058196  0.044421 -0.114103 -0.151040 -0.084189   \n",
       "thalachh -0.398522 -0.044020  0.295762 -0.046698 -0.009940 -0.008567   \n",
       "exng      0.096801  0.141664 -0.394280  0.067616  0.067023  0.025665   \n",
       "oldpeak   0.210013  0.096093 -0.149230  0.193216  0.053952  0.005747   \n",
       "slp      -0.168814 -0.030711  0.119717 -0.121475 -0.004038 -0.059894   \n",
       "caa       0.276326  0.118261 -0.181053  0.101389  0.070511  0.137979   \n",
       "thall     0.068001  0.210041 -0.161736  0.062210  0.098803 -0.032019   \n",
       "output   -0.225439 -0.280937  0.433798 -0.144931 -0.085239 -0.028046   \n",
       "\n",
       "           restecg  thalachh      exng   oldpeak       slp       caa  \\\n",
       "age      -0.116211 -0.398522  0.096801  0.210013 -0.168814  0.276326   \n",
       "sex      -0.058196 -0.044020  0.141664  0.096093 -0.030711  0.118261   \n",
       "cp        0.044421  0.295762 -0.394280 -0.149230  0.119717 -0.181053   \n",
       "trtbps   -0.114103 -0.046698  0.067616  0.193216 -0.121475  0.101389   \n",
       "chol     -0.151040 -0.009940  0.067023  0.053952 -0.004038  0.070511   \n",
       "fbs      -0.084189 -0.008567  0.025665  0.005747 -0.059894  0.137979   \n",
       "restecg   1.000000  0.044123 -0.070733 -0.058770  0.093045 -0.072042   \n",
       "thalachh  0.044123  1.000000 -0.378812 -0.344187  0.386784 -0.213177   \n",
       "exng     -0.070733 -0.378812  1.000000  0.288223 -0.257748  0.115739   \n",
       "oldpeak  -0.058770 -0.344187  0.288223  1.000000 -0.577537  0.222682   \n",
       "slp       0.093045  0.386784 -0.257748 -0.577537  1.000000 -0.080155   \n",
       "caa      -0.072042 -0.213177  0.115739  0.222682 -0.080155  1.000000   \n",
       "thall    -0.011981 -0.096439  0.206754  0.210244 -0.104764  0.151832   \n",
       "output    0.137230  0.421741 -0.436757 -0.430696  0.345877 -0.391724   \n",
       "\n",
       "             thall    output  \n",
       "age       0.068001 -0.225439  \n",
       "sex       0.210041 -0.280937  \n",
       "cp       -0.161736  0.433798  \n",
       "trtbps    0.062210 -0.144931  \n",
       "chol      0.098803 -0.085239  \n",
       "fbs      -0.032019 -0.028046  \n",
       "restecg  -0.011981  0.137230  \n",
       "thalachh -0.096439  0.421741  \n",
       "exng      0.206754 -0.436757  \n",
       "oldpeak   0.210244 -0.430696  \n",
       "slp      -0.104764  0.345877  \n",
       "caa       0.151832 -0.391724  \n",
       "thall     1.000000 -0.344029  \n",
       "output   -0.344029  1.000000  "
      ]
     },
     "execution_count": 11,
     "metadata": {},
     "output_type": "execute_result"
    }
   ],
   "source": [
    "heart_df.corr(method ='pearson')"
   ]
  },
  {
   "cell_type": "markdown",
   "id": "dominican-voltage",
   "metadata": {
    "papermill": {
     "duration": 0.033808,
     "end_time": "2021-04-17T00:29:57.090447",
     "exception": false,
     "start_time": "2021-04-17T00:29:57.056639",
     "status": "completed"
    },
    "tags": []
   },
   "source": [
    "**Some features are displaying some correlation - gives us hope we may have good data to train the model on**"
   ]
  },
  {
   "cell_type": "markdown",
   "id": "ranging-orientation",
   "metadata": {
    "papermill": {
     "duration": 0.034229,
     "end_time": "2021-04-17T00:29:57.157548",
     "exception": false,
     "start_time": "2021-04-17T00:29:57.123319",
     "status": "completed"
    },
    "tags": []
   },
   "source": [
    "**Specifically features cp, thalachh, excng, old peak and caa may have signifigance. Plotting the categories will diplay if the counts are balanced**"
   ]
  },
  {
   "cell_type": "code",
   "execution_count": 12,
   "id": "announced-program",
   "metadata": {
    "execution": {
     "iopub.execute_input": "2021-04-17T00:29:57.228768Z",
     "iopub.status.busy": "2021-04-17T00:29:57.227727Z",
     "iopub.status.idle": "2021-04-17T00:29:57.680538Z",
     "shell.execute_reply": "2021-04-17T00:29:57.679354Z"
    },
    "papermill": {
     "duration": 0.489839,
     "end_time": "2021-04-17T00:29:57.680721",
     "exception": false,
     "start_time": "2021-04-17T00:29:57.190882",
     "status": "completed"
    },
    "tags": []
   },
   "outputs": [
    {
     "data": {
      "image/png": "[encoded data removed]",
      "text/plain": [
       "<Figure size 432x288 with 1 Axes>"
      ]
     },
     "metadata": {},
     "output_type": "display_data"
    },
    {
     "data": {
      "image/png": "[encoded data removed]",
      "text/plain": [
       "<Figure size 432x288 with 1 Axes>"
      ]
     },
     "metadata": {},
     "output_type": "display_data"
    },
    {
     "data": {
      "image/png": "[encoded data removed]",
      "text/plain": [
       "<Figure size 432x288 with 1 Axes>"
      ]
     },
     "metadata": {},
     "output_type": "display_data"
    }
   ],
   "source": [
    "# Plot counts vs. cat features\n",
    "sig_cat_feats = [\"cp\", \"exng\", \"caa\"]\n",
    "for i in sig_cat_feats:\n",
    "    sns.set_theme(style=\"darkgrid\")\n",
    "    ax = sns.countplot(data=heart_df, x=i)\n",
    "    plt.show()"
   ]
  },
  {
   "cell_type": "markdown",
   "id": "voluntary-slovakia",
   "metadata": {
    "papermill": {
     "duration": 0.034757,
     "end_time": "2021-04-17T00:29:57.750452",
     "exception": false,
     "start_time": "2021-04-17T00:29:57.715695",
     "status": "completed"
    },
    "tags": []
   },
   "source": [
    "**Lets check out how balanced the labels are (labels = prone to a heart attack or not)**"
   ]
  },
  {
   "cell_type": "code",
   "execution_count": 13,
   "id": "confirmed-certification",
   "metadata": {
    "execution": {
     "iopub.execute_input": "2021-04-17T00:29:57.856782Z",
     "iopub.status.busy": "2021-04-17T00:29:57.848431Z",
     "iopub.status.idle": "2021-04-17T00:29:57.967323Z",
     "shell.execute_reply": "2021-04-17T00:29:57.966687Z"
    },
    "papermill": {
     "duration": 0.180929,
     "end_time": "2021-04-17T00:29:57.967483",
     "exception": false,
     "start_time": "2021-04-17T00:29:57.786554",
     "status": "completed"
    },
    "tags": []
   },
   "outputs": [
    {
     "data": {
      "image/png": "[encoded data removed]",
      "text/plain": [
       "<Figure size 432x288 with 1 Axes>"
      ]
     },
     "metadata": {},
     "output_type": "display_data"
    }
   ],
   "source": [
    "sns.set_theme(style=\"darkgrid\")\n",
    "ax = sns.countplot(data=heart_df, x=\"output\")\n",
    "plt.show()"
   ]
  },
  {
   "cell_type": "markdown",
   "id": "flush-manor",
   "metadata": {
    "papermill": {
     "duration": 0.036525,
     "end_time": "2021-04-17T00:29:58.039790",
     "exception": false,
     "start_time": "2021-04-17T00:29:58.003265",
     "status": "completed"
    },
    "tags": []
   },
   "source": [
    "**Pretty balanced, way better than the stroke dataset I worked on previously**"
   ]
  },
  {
   "cell_type": "markdown",
   "id": "caroline-digit",
   "metadata": {
    "papermill": {
     "duration": 0.036428,
     "end_time": "2021-04-17T00:29:58.112056",
     "exception": false,
     "start_time": "2021-04-17T00:29:58.075628",
     "status": "completed"
    },
    "tags": []
   },
   "source": [
    "# Okay enough data drooling, lets split the data and preprocess"
   ]
  },
  {
   "cell_type": "markdown",
   "id": "historic-workstation",
   "metadata": {
    "papermill": {
     "duration": 0.035493,
     "end_time": "2021-04-17T00:29:58.183832",
     "exception": false,
     "start_time": "2021-04-17T00:29:58.148339",
     "status": "completed"
    },
    "tags": []
   },
   "source": [
    "**Lets split up the data:\n",
    "train = 75%  |  test = 25%**"
   ]
  },
  {
   "cell_type": "code",
   "execution_count": 14,
   "id": "minor-deadline",
   "metadata": {
    "execution": {
     "iopub.execute_input": "2021-04-17T00:29:58.266383Z",
     "iopub.status.busy": "2021-04-17T00:29:58.265303Z",
     "iopub.status.idle": "2021-04-17T00:29:58.269378Z",
     "shell.execute_reply": "2021-04-17T00:29:58.268326Z"
    },
    "papermill": {
     "duration": 0.049447,
     "end_time": "2021-04-17T00:29:58.269538",
     "exception": false,
     "start_time": "2021-04-17T00:29:58.220091",
     "status": "completed"
    },
    "tags": []
   },
   "outputs": [],
   "source": [
    "# Breakdown the data frame into attributes and label\n",
    "X = heart_df.drop('output', axis=1)\n",
    "y = heart_df['output']\n",
    "X_train, X_test, y_train, y_test = train_test_split(X, y, test_size=0.25, random_state=42)"
   ]
  },
  {
   "cell_type": "markdown",
   "id": "directed-engineering",
   "metadata": {
    "papermill": {
     "duration": 0.035456,
     "end_time": "2021-04-17T00:29:58.341253",
     "exception": false,
     "start_time": "2021-04-17T00:29:58.305797",
     "status": "completed"
    },
    "tags": []
   },
   "source": [
    "**Set up pipelines:\n",
    "Scale the integer features,\n",
    "Categorize the discrete features with OneHot** "
   ]
  },
  {
   "cell_type": "code",
   "execution_count": 15,
   "id": "quiet-texas",
   "metadata": {
    "execution": {
     "iopub.execute_input": "2021-04-17T00:29:58.420665Z",
     "iopub.status.busy": "2021-04-17T00:29:58.419984Z",
     "iopub.status.idle": "2021-04-17T00:29:58.422921Z",
     "shell.execute_reply": "2021-04-17T00:29:58.423447Z"
    },
    "papermill": {
     "duration": 0.045323,
     "end_time": "2021-04-17T00:29:58.423642",
     "exception": false,
     "start_time": "2021-04-17T00:29:58.378319",
     "status": "completed"
    },
    "tags": []
   },
   "outputs": [],
   "source": [
    "numeric_transformer = Pipeline(steps=[\n",
    "    ('scaler', RobustScaler())])"
   ]
  },
  {
   "cell_type": "code",
   "execution_count": 16,
   "id": "falling-vertex",
   "metadata": {
    "execution": {
     "iopub.execute_input": "2021-04-17T00:29:58.501669Z",
     "iopub.status.busy": "2021-04-17T00:29:58.500857Z",
     "iopub.status.idle": "2021-04-17T00:29:58.503252Z",
     "shell.execute_reply": "2021-04-17T00:29:58.503737Z"
    },
    "papermill": {
     "duration": 0.044096,
     "end_time": "2021-04-17T00:29:58.503960",
     "exception": false,
     "start_time": "2021-04-17T00:29:58.459864",
     "status": "completed"
    },
    "tags": []
   },
   "outputs": [],
   "source": [
    "categorical_transformer = Pipeline(steps=[\n",
    "    ('onehot', OneHotEncoder(handle_unknown='ignore'))])"
   ]
  },
  {
   "cell_type": "markdown",
   "id": "following-probability",
   "metadata": {
    "papermill": {
     "duration": 0.036273,
     "end_time": "2021-04-17T00:29:58.580235",
     "exception": false,
     "start_time": "2021-04-17T00:29:58.543962",
     "status": "completed"
    },
    "tags": []
   },
   "source": []
  },
  {
   "cell_type": "code",
   "execution_count": 17,
   "id": "caroline-castle",
   "metadata": {
    "execution": {
     "iopub.execute_input": "2021-04-17T00:29:58.656375Z",
     "iopub.status.busy": "2021-04-17T00:29:58.655697Z",
     "iopub.status.idle": "2021-04-17T00:29:58.670596Z",
     "shell.execute_reply": "2021-04-17T00:29:58.671172Z"
    },
    "papermill": {
     "duration": 0.054378,
     "end_time": "2021-04-17T00:29:58.671353",
     "exception": false,
     "start_time": "2021-04-17T00:29:58.616975",
     "status": "completed"
    },
    "tags": []
   },
   "outputs": [
    {
     "data": {
      "text/html": [
       "<div>\n",
       "<style scoped>\n",
       "    .dataframe tbody tr th:only-of-type {\n",
       "        vertical-align: middle;\n",
       "    }\n",
       "\n",
       "    .dataframe tbody tr th {\n",
       "        vertical-align: top;\n",
       "    }\n",
       "\n",
       "    .dataframe thead th {\n",
       "        text-align: right;\n",
       "    }\n",
       "</style>\n",
       "<table border=\"1\" class=\"dataframe\">\n",
       "  <thead>\n",
       "    <tr style=\"text-align: right;\">\n",
       "      <th></th>\n",
       "      <th>age</th>\n",
       "      <th>sex</th>\n",
       "      <th>cp</th>\n",
       "      <th>trtbps</th>\n",
       "      <th>chol</th>\n",
       "      <th>fbs</th>\n",
       "      <th>restecg</th>\n",
       "      <th>thalachh</th>\n",
       "      <th>exng</th>\n",
       "      <th>oldpeak</th>\n",
       "      <th>slp</th>\n",
       "      <th>caa</th>\n",
       "      <th>thall</th>\n",
       "      <th>output</th>\n",
       "    </tr>\n",
       "  </thead>\n",
       "  <tbody>\n",
       "    <tr>\n",
       "      <th>0</th>\n",
       "      <td>63</td>\n",
       "      <td>1</td>\n",
       "      <td>3</td>\n",
       "      <td>145</td>\n",
       "      <td>233</td>\n",
       "      <td>1</td>\n",
       "      <td>0</td>\n",
       "      <td>150</td>\n",
       "      <td>0</td>\n",
       "      <td>2.3</td>\n",
       "      <td>0</td>\n",
       "      <td>0</td>\n",
       "      <td>1</td>\n",
       "      <td>1</td>\n",
       "    </tr>\n",
       "    <tr>\n",
       "      <th>1</th>\n",
       "      <td>37</td>\n",
       "      <td>1</td>\n",
       "      <td>2</td>\n",
       "      <td>130</td>\n",
       "      <td>250</td>\n",
       "      <td>0</td>\n",
       "      <td>1</td>\n",
       "      <td>187</td>\n",
       "      <td>0</td>\n",
       "      <td>3.5</td>\n",
       "      <td>0</td>\n",
       "      <td>0</td>\n",
       "      <td>2</td>\n",
       "      <td>1</td>\n",
       "    </tr>\n",
       "    <tr>\n",
       "      <th>2</th>\n",
       "      <td>41</td>\n",
       "      <td>0</td>\n",
       "      <td>1</td>\n",
       "      <td>130</td>\n",
       "      <td>204</td>\n",
       "      <td>0</td>\n",
       "      <td>0</td>\n",
       "      <td>172</td>\n",
       "      <td>0</td>\n",
       "      <td>1.4</td>\n",
       "      <td>2</td>\n",
       "      <td>0</td>\n",
       "      <td>2</td>\n",
       "      <td>1</td>\n",
       "    </tr>\n",
       "    <tr>\n",
       "      <th>3</th>\n",
       "      <td>56</td>\n",
       "      <td>1</td>\n",
       "      <td>1</td>\n",
       "      <td>120</td>\n",
       "      <td>236</td>\n",
       "      <td>0</td>\n",
       "      <td>1</td>\n",
       "      <td>178</td>\n",
       "      <td>0</td>\n",
       "      <td>0.8</td>\n",
       "      <td>2</td>\n",
       "      <td>0</td>\n",
       "      <td>2</td>\n",
       "      <td>1</td>\n",
       "    </tr>\n",
       "    <tr>\n",
       "      <th>4</th>\n",
       "      <td>57</td>\n",
       "      <td>0</td>\n",
       "      <td>0</td>\n",
       "      <td>120</td>\n",
       "      <td>354</td>\n",
       "      <td>0</td>\n",
       "      <td>1</td>\n",
       "      <td>163</td>\n",
       "      <td>1</td>\n",
       "      <td>0.6</td>\n",
       "      <td>2</td>\n",
       "      <td>0</td>\n",
       "      <td>2</td>\n",
       "      <td>1</td>\n",
       "    </tr>\n",
       "  </tbody>\n",
       "</table>\n",
       "</div>"
      ],
      "text/plain": [
       "   age  sex  cp  trtbps  chol  fbs  restecg  thalachh  exng  oldpeak  slp  \\\n",
       "0   63    1   3     145   233    1        0       150     0      2.3    0   \n",
       "1   37    1   2     130   250    0        1       187     0      3.5    0   \n",
       "2   41    0   1     130   204    0        0       172     0      1.4    2   \n",
       "3   56    1   1     120   236    0        1       178     0      0.8    2   \n",
       "4   57    0   0     120   354    0        1       163     1      0.6    2   \n",
       "\n",
       "   caa  thall  output  \n",
       "0    0      1       1  \n",
       "1    0      2       1  \n",
       "2    0      2       1  \n",
       "3    0      2       1  \n",
       "4    0      2       1  "
      ]
     },
     "execution_count": 17,
     "metadata": {},
     "output_type": "execute_result"
    }
   ],
   "source": [
    "heart_df.head()"
   ]
  },
  {
   "cell_type": "markdown",
   "id": "herbal-cassette",
   "metadata": {
    "papermill": {
     "duration": 0.036447,
     "end_time": "2021-04-17T00:29:58.746612",
     "exception": false,
     "start_time": "2021-04-17T00:29:58.710165",
     "status": "completed"
    },
    "tags": []
   },
   "source": []
  },
  {
   "cell_type": "markdown",
   "id": "found-usage",
   "metadata": {
    "papermill": {
     "duration": 0.036904,
     "end_time": "2021-04-17T00:29:58.820795",
     "exception": false,
     "start_time": "2021-04-17T00:29:58.783891",
     "status": "completed"
    },
    "tags": []
   },
   "source": [
    "**Breakdown heart dataframe into categories and numeric sections - this will prep the data for the pipeline**"
   ]
  },
  {
   "cell_type": "code",
   "execution_count": 18,
   "id": "amended-brooklyn",
   "metadata": {
    "execution": {
     "iopub.execute_input": "2021-04-17T00:29:58.900095Z",
     "iopub.status.busy": "2021-04-17T00:29:58.899070Z",
     "iopub.status.idle": "2021-04-17T00:29:58.902222Z",
     "shell.execute_reply": "2021-04-17T00:29:58.902692Z"
    },
    "papermill": {
     "duration": 0.045525,
     "end_time": "2021-04-17T00:29:58.902883",
     "exception": false,
     "start_time": "2021-04-17T00:29:58.857358",
     "status": "completed"
    },
    "tags": []
   },
   "outputs": [],
   "source": [
    "numerical_feats = [\"age\", \"trtbps\", \"chol\", \"thalachh\", \"oldpeak\"]\n",
    "categorical_feats = [\"sex\", \"cp\", \"fbs\", \"restecg\", \"exng\", \"slp\", \"caa\", \"thall\"]"
   ]
  },
  {
   "cell_type": "markdown",
   "id": "statewide-gilbert",
   "metadata": {
    "papermill": {
     "duration": 0.036666,
     "end_time": "2021-04-17T00:29:58.977257",
     "exception": false,
     "start_time": "2021-04-17T00:29:58.940591",
     "status": "completed"
    },
    "tags": []
   },
   "source": [
    "**Combine the category and numerical transformers as a preprocessor**"
   ]
  },
  {
   "cell_type": "code",
   "execution_count": 19,
   "id": "infectious-motivation",
   "metadata": {
    "execution": {
     "iopub.execute_input": "2021-04-17T00:29:59.058005Z",
     "iopub.status.busy": "2021-04-17T00:29:59.056977Z",
     "iopub.status.idle": "2021-04-17T00:29:59.060914Z",
     "shell.execute_reply": "2021-04-17T00:29:59.060218Z"
    },
    "papermill": {
     "duration": 0.046325,
     "end_time": "2021-04-17T00:29:59.061099",
     "exception": false,
     "start_time": "2021-04-17T00:29:59.014774",
     "status": "completed"
    },
    "tags": []
   },
   "outputs": [],
   "source": [
    "# Data cleaning and transforming\n",
    "preprocessor = ColumnTransformer(\n",
    "    transformers=[\n",
    "        ('num', numeric_transformer, numerical_feats),\n",
    "        ('cat', categorical_transformer, categorical_feats)])"
   ]
  },
  {
   "cell_type": "markdown",
   "id": "immune-armstrong",
   "metadata": {
    "papermill": {
     "duration": 0.036584,
     "end_time": "2021-04-17T00:29:59.134692",
     "exception": false,
     "start_time": "2021-04-17T00:29:59.098108",
     "status": "completed"
    },
    "tags": []
   },
   "source": [
    "# Model and Run"
   ]
  },
  {
   "cell_type": "markdown",
   "id": "decent-event",
   "metadata": {
    "papermill": {
     "duration": 0.037303,
     "end_time": "2021-04-17T00:29:59.208691",
     "exception": false,
     "start_time": "2021-04-17T00:29:59.171388",
     "status": "completed"
    },
    "tags": []
   },
   "source": [
    "**List the classifiers as a list (will be easy to go back and add classifiers)**"
   ]
  },
  {
   "cell_type": "code",
   "execution_count": 20,
   "id": "textile-twist",
   "metadata": {
    "execution": {
     "iopub.execute_input": "2021-04-17T00:29:59.288691Z",
     "iopub.status.busy": "2021-04-17T00:29:59.288009Z",
     "iopub.status.idle": "2021-04-17T00:29:59.291196Z",
     "shell.execute_reply": "2021-04-17T00:29:59.290668Z"
    },
    "papermill": {
     "duration": 0.04597,
     "end_time": "2021-04-17T00:29:59.291348",
     "exception": false,
     "start_time": "2021-04-17T00:29:59.245378",
     "status": "completed"
    },
    "tags": []
   },
   "outputs": [],
   "source": [
    "# Run multiple models and compare\n",
    "classifiers = [\n",
    "    SVC(kernel=\"rbf\", C=0.025, probability=True),\n",
    "    DecisionTreeClassifier(),\n",
    "    RandomForestClassifier(),\n",
    "    AdaBoostClassifier(),\n",
    "    GradientBoostingClassifier(),\n",
    "    KNeighborsClassifier(),\n",
    "    LogisticRegression(),\n",
    "    ]"
   ]
  },
  {
   "cell_type": "markdown",
   "id": "plain-consent",
   "metadata": {
    "papermill": {
     "duration": 0.036923,
     "end_time": "2021-04-17T00:29:59.365732",
     "exception": false,
     "start_time": "2021-04-17T00:29:59.328809",
     "status": "completed"
    },
    "tags": []
   },
   "source": [
    "**Loop through the classifiers and run Pipeline and fit functions on the trainig set then predict test set based on the model**"
   ]
  },
  {
   "cell_type": "code",
   "execution_count": 21,
   "id": "bound-institution",
   "metadata": {
    "execution": {
     "iopub.execute_input": "2021-04-17T00:29:59.454436Z",
     "iopub.status.busy": "2021-04-17T00:29:59.453678Z",
     "iopub.status.idle": "2021-04-17T00:30:00.114084Z",
     "shell.execute_reply": "2021-04-17T00:30:00.115003Z"
    },
    "papermill": {
     "duration": 0.712329,
     "end_time": "2021-04-17T00:30:00.115286",
     "exception": false,
     "start_time": "2021-04-17T00:29:59.402957",
     "status": "completed"
    },
    "tags": []
   },
   "outputs": [
    {
     "name": "stdout",
     "output_type": "stream",
     "text": [
      "** Following results reflect classifier models **\n",
      "-------------------------------------------\n",
      "SVC(C=0.025, probability=True)\n",
      "Accuracy:  53.94736842105263\n",
      "Predictions correct =  41\n",
      "Predictions wrong   =  35\n",
      "Confussion matrix = \n",
      " [[ 0 35]\n",
      " [ 0 41]]\n",
      "-------------------------------------------\n",
      "DecisionTreeClassifier()\n",
      "Accuracy:  75.0\n",
      "Predictions correct =  57\n",
      "Predictions wrong   =  19\n",
      "Confussion matrix = \n",
      " [[25 10]\n",
      " [ 9 32]]\n",
      "-------------------------------------------\n",
      "RandomForestClassifier()\n",
      "Accuracy:  86.8421052631579\n",
      "Predictions correct =  66\n",
      "Predictions wrong   =  10\n",
      "Confussion matrix = \n",
      " [[29  6]\n",
      " [ 4 37]]\n",
      "-------------------------------------------\n",
      "AdaBoostClassifier()\n",
      "Accuracy:  80.26315789473685\n",
      "Predictions correct =  61\n",
      "Predictions wrong   =  15\n",
      "Confussion matrix = \n",
      " [[29  6]\n",
      " [ 9 32]]\n",
      "-------------------------------------------\n",
      "GradientBoostingClassifier()\n",
      "Accuracy:  85.52631578947368\n",
      "Predictions correct =  65\n",
      "Predictions wrong   =  11\n",
      "Confussion matrix = \n",
      " [[29  6]\n",
      " [ 5 36]]\n",
      "-------------------------------------------\n",
      "KNeighborsClassifier()\n",
      "Accuracy:  88.1578947368421\n",
      "Predictions correct =  67\n",
      "Predictions wrong   =  9\n",
      "Confussion matrix = \n",
      " [[29  6]\n",
      " [ 3 38]]\n",
      "-------------------------------------------\n",
      "LogisticRegression()\n",
      "Accuracy:  85.52631578947368\n",
      "Predictions correct =  65\n",
      "Predictions wrong   =  11\n",
      "Confussion matrix = \n",
      " [[28  7]\n",
      " [ 4 37]]\n"
     ]
    }
   ],
   "source": [
    "print(\"** Following results reflect classifier models **\")\n",
    "classif_list = []\n",
    "acc_list = []\n",
    "for classifier in classifiers:\n",
    "    pipe = Pipeline(steps=[('preprocessor', preprocessor),\n",
    "                      ('classifier', classifier)])\n",
    "    pipe.fit(X_train, y_train)   \n",
    "    \n",
    "    # Predict the test labels\n",
    "    preds = pipe.predict(X_test)\n",
    "    \n",
    "    # Calculate the accuracy and cofussion matrix\n",
    "    acc_score = accuracy_score(y_test, preds)\n",
    "    conf_matrix = confusion_matrix(y_test, preds)\n",
    "    \n",
    "    # Calculate how many preidctions were right and wrong\n",
    "    n_labels_right = accuracy_score(y_test, preds, normalize=False)\n",
    "    n_labels_total = y_test.size\n",
    "      \n",
    "    # Print details of classifiers, accuracy and cofussion matrix\n",
    "    print(\"-------------------------------------------\")\n",
    "    print(classifier)\n",
    "    print(\"Accuracy: \", acc_score*100)\n",
    "    print(\"Predictions correct = \", n_labels_right)\n",
    "    print(\"Predictions wrong   = \", n_labels_total - n_labels_right)\n",
    "    print(\"Confussion matrix = \\n\", conf_matrix)\n",
    "    \n",
    "    # Put classifier and accuracy in list to extract the best at the end\n",
    "    classif_list.append(classifier)\n",
    "    acc_list.append(acc_score*100)"
   ]
  },
  {
   "cell_type": "markdown",
   "id": "ruled-reward",
   "metadata": {
    "papermill": {
     "duration": 0.037644,
     "end_time": "2021-04-17T00:30:00.210517",
     "exception": false,
     "start_time": "2021-04-17T00:30:00.172873",
     "status": "completed"
    },
    "tags": []
   },
   "source": [
    "**See which model predicted the best**"
   ]
  },
  {
   "cell_type": "code",
   "execution_count": 22,
   "id": "applied-baking",
   "metadata": {
    "execution": {
     "iopub.execute_input": "2021-04-17T00:30:00.295257Z",
     "iopub.status.busy": "2021-04-17T00:30:00.294179Z",
     "iopub.status.idle": "2021-04-17T00:30:00.300079Z",
     "shell.execute_reply": "2021-04-17T00:30:00.299229Z"
    },
    "papermill": {
     "duration": 0.051672,
     "end_time": "2021-04-17T00:30:00.300285",
     "exception": false,
     "start_time": "2021-04-17T00:30:00.248613",
     "status": "completed"
    },
    "tags": []
   },
   "outputs": [
    {
     "name": "stdout",
     "output_type": "stream",
     "text": [
      "-------------------------------------------\n",
      "** The Best Model Goes to ... **\n",
      "The best accuracy model =  KNeighborsClassifier()\n",
      "With an accuracy =  88.1578947368421\n",
      "Complete.\n"
     ]
    }
   ],
   "source": [
    "# Output the best model by accuracy\n",
    "print(\"-------------------------------------------\")\n",
    "print(\"** The Best Model Goes to ... **\")\n",
    "best_acc = max(acc_list)\n",
    "index = acc_list.index(max(acc_list))\n",
    "best_classif = classif_list[index]\n",
    "print(\"The best accuracy model = \", best_classif)\n",
    "print(\"With an accuracy = \", best_acc)\n",
    "print(\"Complete.\")"
   ]
  }
 ],
 "metadata": {
  "kernelspec": {
   "display_name": "Python 3",
   "language": "python",
   "name": "python3"
  },
  "language_info": {
   "codemirror_mode": {
    "name": "ipython",
    "version": 3
   },
   "file_extension": ".py",
   "mimetype": "text/x-python",
   "name": "python",
   "nbconvert_exporter": "python",
   "pygments_lexer": "ipython3",
   "version": "3.7.9"
  },
  "papermill": {
   "default_parameters": {},
   "duration": 14.47058,
   "end_time": "2021-04-17T00:30:01.051035",
   "environment_variables": {},
   "exception": null,
   "input_path": "__notebook__.ipynb",
   "output_path": "__notebook__.ipynb",
   "parameters": {},
   "start_time": "2021-04-17T00:29:46.580455",
   "version": "2.3.2"
  }
 },
 "nbformat": 4,
 "nbformat_minor": 5
}
